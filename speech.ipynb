{
  "nbformat": 4,
  "nbformat_minor": 0,
  "metadata": {
    "colab": {
      "provenance": []
    },
    "kernelspec": {
      "name": "python3",
      "display_name": "Python 3"
    },
    "language_info": {
      "name": "python"
    }
  },
  "cells": [
    {
      "cell_type": "code",
      "source": [
        "import spacy"
      ],
      "metadata": {
        "id": "v4mAeSbO7lP4"
      },
      "execution_count": 2,
      "outputs": []
    },
    {
      "cell_type": "code",
      "source": [
        "sp=spacy.load('en_core_web_sm')"
      ],
      "metadata": {
        "id": "NLd3vapK7tYa"
      },
      "execution_count": 3,
      "outputs": []
    },
    {
      "cell_type": "code",
      "source": [
        "sen=sp(u\"I like to play football. I hated it in my childhood though\")"
      ],
      "metadata": {
        "id": "wtdNhyPb8fow"
      },
      "execution_count": 4,
      "outputs": []
    },
    {
      "cell_type": "code",
      "source": [
        "print(sen.text)"
      ],
      "metadata": {
        "colab": {
          "base_uri": "https://localhost:8080/"
        },
        "id": "uhgitWTi8wLA",
        "outputId": "0cac224d-d7be-468c-ed02-06f34e68a202"
      },
      "execution_count": 7,
      "outputs": [
        {
          "output_type": "stream",
          "name": "stdout",
          "text": [
            "I like to play football. I hated it in my childhood though\n"
          ]
        }
      ]
    },
    {
      "cell_type": "code",
      "source": [
        "print(sen[7].pos_)"
      ],
      "metadata": {
        "colab": {
          "base_uri": "https://localhost:8080/"
        },
        "id": "BKBLj8il9CzA",
        "outputId": "3eff82a3-ea6e-4582-e652-78a92e66b126"
      },
      "execution_count": 9,
      "outputs": [
        {
          "output_type": "stream",
          "name": "stdout",
          "text": [
            "VERB\n"
          ]
        }
      ]
    },
    {
      "cell_type": "code",
      "source": [
        "print(sen[7].tag_)"
      ],
      "metadata": {
        "colab": {
          "base_uri": "https://localhost:8080/"
        },
        "id": "dwIIPSyf-Fo3",
        "outputId": "5fef1786-b1fb-4396-b882-37b8f3a33840"
      },
      "execution_count": 11,
      "outputs": [
        {
          "output_type": "stream",
          "name": "stdout",
          "text": [
            "VBD\n"
          ]
        }
      ]
    },
    {
      "cell_type": "code",
      "source": [
        "print(spacy.explain(sen[7].tag_))"
      ],
      "metadata": {
        "colab": {
          "base_uri": "https://localhost:8080/"
        },
        "id": "O4Ilf6W0-Y7H",
        "outputId": "ab957b9c-9f72-47be-a1b6-4f919bdca318"
      },
      "execution_count": 12,
      "outputs": [
        {
          "output_type": "stream",
          "name": "stdout",
          "text": [
            "verb, past tense\n"
          ]
        }
      ]
    },
    {
      "cell_type": "code",
      "source": [
        "for word in sen:\n",
        "  print(f'{word.text:{12}}{word.pos_:{10}}{word.tag_:{8}}{spacy.explain(word.tag_)}')"
      ],
      "metadata": {
        "colab": {
          "base_uri": "https://localhost:8080/"
        },
        "id": "ZNasmtzK-gMO",
        "outputId": "0c058efc-7981-45de-d015-8daa88545162"
      },
      "execution_count": 13,
      "outputs": [
        {
          "output_type": "stream",
          "name": "stdout",
          "text": [
            "I           PRON      PRP     pronoun, personal\n",
            "like        VERB      VBP     verb, non-3rd person singular present\n",
            "to          PART      TO      infinitival \"to\"\n",
            "play        VERB      VB      verb, base form\n",
            "football    NOUN      NN      noun, singular or mass\n",
            ".           PUNCT     .       punctuation mark, sentence closer\n",
            "I           PRON      PRP     pronoun, personal\n",
            "hated       VERB      VBD     verb, past tense\n",
            "it          PRON      PRP     pronoun, personal\n",
            "in          ADP       IN      conjunction, subordinating or preposition\n",
            "my          PRON      PRP$    pronoun, possessive\n",
            "childhood   NOUN      NN      noun, singular or mass\n",
            "though      ADV       RB      adverb\n"
          ]
        }
      ]
    }
  ]
}